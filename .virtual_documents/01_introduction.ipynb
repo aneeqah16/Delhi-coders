





{
    "users": [
        {"id": 1, "name": "Amit", "friends": [2, 3], "liked_pages": [101]},
        {"id": 2, "name": "Priya", "friends": [1, 4], "liked_pages": [102]},
        {"id": 3, "name": "Rahul", "friends": [1], "liked_pages": [101, 103]},
        {"id": 4, "name": "Sara", "friends": [2], "liked_pages": [104]}
    ],
    "pages": [
        {"id": 101, "name": "Python Developers"},
        {"id": 102, "name": "Data Science Enthusiasts"},
        {"id": 103, "name": "AI & ML Community"},
        {"id": 104, "name": "Web Dev Hub"}
    ]
}





import json


# lets write the function to load the data 
def load_data(filename):
    with open(filename,"r") as f:
        data = json.load(f)
        return data


data = load_data("data.json")


data


type(data)



# write a function to display users and their connections

def display_users(data):
    print(f"Users and their connections: \n")
    for user in data["users"]:
        print(f"ID{user['id']}:- {user['name']} is friends with: {user['friends']} and liked pages are {user['liked_pages']}\n")
    print("Pages information : \n")
    for page in data["pages"]:
        print(f"{page['id']} : {page['name']}")

display_users(data)        
