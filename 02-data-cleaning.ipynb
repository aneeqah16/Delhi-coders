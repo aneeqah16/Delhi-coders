{
 "cells": [
  {
   "cell_type": "markdown",
   "id": "26fa48f6-71f9-49ca-980b-efde2081bc42",
   "metadata": {},
   "source": [
    "# Cleaning and Structuring the Data"
   ]
  },
  {
   "cell_type": "markdown",
   "id": "a4bc17a9-80a1-418f-9527-20d3746e8616",
   "metadata": {},
   "source": [
    "## Introduction"
   ]
  },
  {
   "cell_type": "markdown",
   "id": "69399e0a-b2a5-4b1e-8550-e8f8c6d61eaf",
   "metadata": {},
   "source": [
    "Your manager is impressed with your progress but points out that the data is messy. Before we can analyze it effectively, we need to clean and structure the data properly.\n",
    "\n",
    "Your task is to:\n",
    "\n",
    "- Handle missing values\n",
    "- Remove duplicate or inconsistent data\n",
    "- Standardize the data format\n",
    "- Let's get started!\n",
    "\n"
   ]
  },
  {
   "cell_type": "markdown",
   "id": "53a1d498-e325-4231-8778-6257b7061cc6",
   "metadata": {},
   "source": [
    "## Task 1 : Identify Issues in the Data\n",
    "Your manager provides you with an example dataset where some records are incomplete or incorrect. Here’s an example:\n",
    "\n",
    "```python\n",
    "{\n",
    "    \"users\": [\n",
    "        {\"id\": 1, \"name\": \"Amit\", \"friends\": [2, 3], \"liked_pages\": [101]},\n",
    "        {\"id\": 2, \"name\": \"Priya\", \"friends\": [1, 4], \"liked_pages\": [102]},\n",
    "        {\"id\": 3, \"name\": \"\", \"friends\": [1], \"liked_pages\": [101, 103]},\n",
    "        {\"id\": 4, \"name\": \"Sara\", \"friends\": [2, 2], \"liked_pages\": [104]},\n",
    "        {\"id\": 5, \"name\": \"Amit\", \"friends\": [], \"liked_pages\": []}\n",
    "    ],\n",
    "    \"pages\": [\n",
    "        {\"id\": 101, \"name\": \"Python Developers\"},\n",
    "        {\"id\": 102, \"name\": \"Data Science Enthusiasts\"},\n",
    "        {\"id\": 103, \"name\": \"AI & ML Community\"},\n",
    "        {\"id\": 104, \"name\": \"Web Dev Hub\"},\n",
    "        {\"id\": 104, \"name\": \"Web Development\"}\n",
    "    ]\n",
    "}\n",
    "```\n",
    "\n",
    "## Problems\n",
    "- User ID 3 has an empty name\n",
    "- User ID 4 has a duplicate friend entry.\n",
    "- User ID 5 has no connections or liked pages (inactive user) "
   ]
  },
  {
   "cell_type": "code",
   "execution_count": 2,
   "id": "ee8b277c-15db-4c83-9a64-6d3f23e8c7f1",
   "metadata": {},
   "outputs": [],
   "source": []
  },
  {
   "cell_type": "code",
   "execution_count": 3,
   "id": "d859da1c-a66d-4608-9ca3-0f2202a69f77",
   "metadata": {},
   "outputs": [],
   "source": []
  },
  {
   "cell_type": "code",
   "execution_count": 15,
   "id": "0f4410bd-20e8-4e8e-a5fc-2937ab8b95da",
   "metadata": {},
   "outputs": [
    {
     "name": "stdout",
     "output_type": "stream",
     "text": [
      "Data has been cleaned successfully\n"
     ]
    }
   ],
   "source": [
    "# # Load the data \n",
    "# import json\n",
    "\n",
    "# def clean_data(data):\n",
    "#     # Remove users with missing names\n",
    "#     data['users'] = [user for user in data['users'] if user['name'].strip()]\n",
    "#     # remove duplicate friends \n",
    "#     for user in data['users']:\n",
    "#         user['friend'] = list(set(user['friends']))\n",
    "\n",
    "#     # remove inactive users \n",
    "#     data['user'] =  [user for user in data['users'] if user['friends'] or user['liked_pages']]\n",
    "#     return data\n",
    "# data  = json.load(open(\"data2.json\"))\n",
    "# data = clean_data(data)\n",
    "\n",
    "# json.dump(data,open(\"cleaned_data2.json\",\"w\"), indent = 4)\n",
    "# print(\"Data has been cleaned successfully\")"
   ]
  },
  {
   "cell_type": "code",
   "execution_count": 17,
   "id": "4222308c-3f35-4cd6-ae7f-a68ac38e81af",
   "metadata": {},
   "outputs": [
    {
     "name": "stdout",
     "output_type": "stream",
     "text": [
      "Data cleaned successfully!\n"
     ]
    }
   ],
   "source": [
    "import json\n",
    "\n",
    "def clean_data(data):\n",
    "    # Remove users with missing names\n",
    "    data[\"users\"] = [user for user in data[\"users\"] if user[\"name\"].strip()]\n",
    "    \n",
    "    # Remove duplicate friends\n",
    "    for user in data[\"users\"]:\n",
    "        user[\"friends\"] = list(set(user[\"friends\"]))\n",
    "    \n",
    "    # Remove inactive users\n",
    "    data[\"users\"] = [user for user in data[\"users\"] if user[\"friends\"] or user[\"liked_pages\"]]\n",
    "    \n",
    "    # Remove duplicate pages\n",
    "    unique_pages = {}\n",
    "    for page in data[\"pages\"]:\n",
    "        unique_pages[page[\"id\"]] = page\n",
    "    data[\"pages\"] = list(unique_pages.values())\n",
    "    \n",
    "    return data\n",
    "\n",
    "# Load, clean, and display the cleaned data\n",
    "data = json.load(open(\"data2.json\"))\n",
    "data = clean_data(data)\n",
    "json.dump(data, open(\"cleaned_codebook_data.json\", \"w\"), indent=4)\n",
    "print(\"Data cleaned successfully!\")"
   ]
  },
  {
   "cell_type": "code",
   "execution_count": null,
   "id": "bef5ebfb-db6f-4ff9-91ae-3bdd4dd0eaf9",
   "metadata": {},
   "outputs": [],
   "source": []
  }
 ],
 "metadata": {
  "kernelspec": {
   "display_name": "Python 3 (ipykernel)",
   "language": "python",
   "name": "python3"
  },
  "language_info": {
   "codemirror_mode": {
    "name": "ipython",
    "version": 3
   },
   "file_extension": ".py",
   "mimetype": "text/x-python",
   "name": "python",
   "nbconvert_exporter": "python",
   "pygments_lexer": "ipython3",
   "version": "3.11.7"
  },
  "widgets": {
   "application/vnd.jupyter.widget-state+json": {
    "state": {},
    "version_major": 2,
    "version_minor": 0
   }
  }
 },
 "nbformat": 4,
 "nbformat_minor": 5
}
