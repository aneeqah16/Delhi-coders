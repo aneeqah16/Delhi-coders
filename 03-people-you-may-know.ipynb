{
 "cells": [
  {
   "cell_type": "code",
   "execution_count": 16,
   "id": "26f67fa9-ee0b-48be-a8b9-434b44eabc3c",
   "metadata": {},
   "outputs": [
    {
     "name": "stdout",
     "output_type": "stream",
     "text": [
      "[4]\n"
     ]
    }
   ],
   "source": [
    "import json\n",
    "def load_data(filename):\n",
    "    with open(\"data.json\", \"r\") as f:\n",
    "        return json.load(f)\n",
    "def find_people_you_may_know(user_id,data):\n",
    "    user_friends = {}\n",
    "    for user in data['users']:\n",
    "        user_friends[user['id']] = set(user['friends'])\n",
    "    if user_id not in user_friends:\n",
    "        return []\n",
    "    direct_friends = user_friends[user_id]\n",
    "    suggestions = {}\n",
    "    for friend in direct_friends:\n",
    "        for mutual in user_friends[friend]:\n",
    "            if mutual != user_id and mutual not in direct_friends:\n",
    "                # count mutual friends\n",
    "                suggestions[mutual] = suggestions.get(mutual,0) + 1\n",
    "\n",
    "    sorted_suggestions = sorted(suggestions.items(), key = lambda x : x[1],reverse =  True)\n",
    "            \n",
    "    return [user_id for user_id,mutual_count in sorted_suggestions]\n",
    "    \n",
    "\n",
    "\n",
    "# load the data\n",
    "data = load_data(\"data.json\")\n",
    "user_id = 1\n",
    "recc = find_people_you_may_know(user_id,data)\n",
    "print(recc)\n",
    "        "
   ]
  },
  {
   "cell_type": "code",
   "execution_count": null,
   "id": "7b8d3644-d205-4eca-815f-ee2e33ca4733",
   "metadata": {},
   "outputs": [],
   "source": []
  }
 ],
 "metadata": {
  "kernelspec": {
   "display_name": "Python 3 (ipykernel)",
   "language": "python",
   "name": "python3"
  },
  "language_info": {
   "codemirror_mode": {
    "name": "ipython",
    "version": 3
   },
   "file_extension": ".py",
   "mimetype": "text/x-python",
   "name": "python",
   "nbconvert_exporter": "python",
   "pygments_lexer": "ipython3",
   "version": "3.11.7"
  },
  "widgets": {
   "application/vnd.jupyter.widget-state+json": {
    "state": {},
    "version_major": 2,
    "version_minor": 0
   }
  }
 },
 "nbformat": 4,
 "nbformat_minor": 5
}
