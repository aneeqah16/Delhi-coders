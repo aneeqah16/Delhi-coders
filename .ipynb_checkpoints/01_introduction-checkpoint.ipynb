{
 "cells": [
  {
   "cell_type": "markdown",
   "id": "d22b72fb-f414-48a7-9f81-73da0d96d63a",
   "metadata": {},
   "source": [
    "# Introduction\n",
    "Congratulations! You have just been hired as a Data Scientist Intern at CodeBook – The Social Media for Coders. This Delhi-based company is offering you a ₹10 LPA job if you successfully complete this 1-month internship. But before you get there, you must prove your skills using only Python—no pandas, NumPy, or fancy libraries!\n",
    "\n",
    "Your manager Puneet Kumar has assigned you your first task: analyzing a data dump of CodeBook users using pure Python. Your job is to load and explore the data to understand its structure."
   ]
  },
  {
   "cell_type": "markdown",
   "id": "136003f0-a0ab-45a5-93e5-a25ea493677b",
   "metadata": {},
   "source": [
    "# Task 1: Load the User Data\n",
    "Your manager has given you a dataset containing information about CodeBook users, their connections (friends), and the pages they have liked.\n",
    "\n",
    "This is how the data will look (in JSON format):\n",
    "\n"
   ]
  },
  {
   "cell_type": "code",
   "execution_count": 1,
   "id": "44af7ec6-d0d3-4372-9a3f-b4f367c46445",
   "metadata": {},
   "outputs": [
    {
     "data": {
      "text/plain": [
       "{'users': [{'id': 1, 'name': 'Amit', 'friends': [2, 3], 'liked_pages': [101]},\n",
       "  {'id': 2, 'name': 'Priya', 'friends': [1, 4], 'liked_pages': [102]},\n",
       "  {'id': 3, 'name': 'Rahul', 'friends': [1], 'liked_pages': [101, 103]},\n",
       "  {'id': 4, 'name': 'Sara', 'friends': [2], 'liked_pages': [104]}],\n",
       " 'pages': [{'id': 101, 'name': 'Python Developers'},\n",
       "  {'id': 102, 'name': 'Data Science Enthusiasts'},\n",
       "  {'id': 103, 'name': 'AI & ML Community'},\n",
       "  {'id': 104, 'name': 'Web Dev Hub'}]}"
      ]
     },
     "execution_count": 1,
     "metadata": {},
     "output_type": "execute_result"
    }
   ],
   "source": [
    "{\n",
    "    \"users\": [\n",
    "        {\"id\": 1, \"name\": \"Amit\", \"friends\": [2, 3], \"liked_pages\": [101]},\n",
    "        {\"id\": 2, \"name\": \"Priya\", \"friends\": [1, 4], \"liked_pages\": [102]},\n",
    "        {\"id\": 3, \"name\": \"Rahul\", \"friends\": [1], \"liked_pages\": [101, 103]},\n",
    "        {\"id\": 4, \"name\": \"Sara\", \"friends\": [2], \"liked_pages\": [104]}\n",
    "    ],\n",
    "    \"pages\": [\n",
    "        {\"id\": 101, \"name\": \"Python Developers\"},\n",
    "        {\"id\": 102, \"name\": \"Data Science Enthusiasts\"},\n",
    "        {\"id\": 103, \"name\": \"AI & ML Community\"},\n",
    "        {\"id\": 104, \"name\": \"Web Dev Hub\"}\n",
    "    ]\n",
    "}"
   ]
  },
  {
   "cell_type": "markdown",
   "id": "c859e414-6fa9-4e2b-9fa4-bd7ea5fbca83",
   "metadata": {},
   "source": [
    "We have to read this data and understand its structure. The data contains three main components:\n",
    "\n",
    "Users: Each user has an ID, name, a list of friends (by their IDs), and a list of liked pages (by their IDs).\n",
    "Pages: Each page has an ID and a name.\n",
    "Connections: Users can have multiple friends and can like multiple pages."
   ]
  },
  {
   "cell_type": "code",
   "execution_count": 2,
   "id": "cd3da3f2-bbb3-418a-aabc-3a37022f36d2",
   "metadata": {},
   "outputs": [],
   "source": [
    "import json"
   ]
  },
  {
   "cell_type": "code",
   "execution_count": 4,
   "id": "08b4f456-c070-4376-94ef-377dc184b081",
   "metadata": {},
   "outputs": [],
   "source": [
    "# lets write the function to load the data \n",
    "def load_data(filename):\n",
    "    with open(filename,\"r\") as f:\n",
    "        data = json.load(f)\n",
    "        return data"
   ]
  },
  {
   "cell_type": "code",
   "execution_count": 6,
   "id": "431f84d0-fdf7-4f34-9e9b-fe4d603d241b",
   "metadata": {},
   "outputs": [],
   "source": [
    "data = load_data(\"data.json\")"
   ]
  },
  {
   "cell_type": "code",
   "execution_count": 7,
   "id": "0020b770-28f8-4f7f-a5d3-384ae4a4461b",
   "metadata": {},
   "outputs": [
    {
     "data": {
      "text/plain": [
       "{'users': [{'id': 1, 'name': 'Amit', 'friends': [2, 3], 'liked_pages': [101]},\n",
       "  {'id': 2, 'name': 'Priya', 'friends': [1, 4], 'liked_pages': [102]},\n",
       "  {'id': 3, 'name': 'Rahul', 'friends': [1], 'liked_pages': [101, 103]},\n",
       "  {'id': 4, 'name': 'Sara', 'friends': [2], 'liked_pages': [104]}],\n",
       " 'pages': [{'id': 101, 'name': 'Python Developers'},\n",
       "  {'id': 102, 'name': 'Data Science Enthusiasts'},\n",
       "  {'id': 103, 'name': 'AI & ML Community'},\n",
       "  {'id': 104, 'name': 'Web Dev Hub'}]}"
      ]
     },
     "execution_count": 7,
     "metadata": {},
     "output_type": "execute_result"
    }
   ],
   "source": [
    "data"
   ]
  },
  {
   "cell_type": "code",
   "execution_count": 8,
   "id": "306aa36a-f80f-44f3-867c-48cba401c2c1",
   "metadata": {},
   "outputs": [
    {
     "data": {
      "text/plain": [
       "dict"
      ]
     },
     "execution_count": 8,
     "metadata": {},
     "output_type": "execute_result"
    }
   ],
   "source": [
    "type(data)\n"
   ]
  },
  {
   "cell_type": "code",
   "execution_count": 33,
   "id": "87e829d5-db54-4254-aee3-6d2e989a83df",
   "metadata": {},
   "outputs": [
    {
     "name": "stdout",
     "output_type": "stream",
     "text": [
      "Users and their connections: \n",
      "\n",
      "ID1:- Amit is friends with: [2, 3] and liked pages are [101]\n",
      "\n",
      "ID2:- Priya is friends with: [1, 4] and liked pages are [102]\n",
      "\n",
      "ID3:- Rahul is friends with: [1] and liked pages are [101, 103]\n",
      "\n",
      "ID4:- Sara is friends with: [2] and liked pages are [104]\n",
      "\n",
      "Pages information : \n",
      "\n",
      "101 : Python Developers\n",
      "102 : Data Science Enthusiasts\n",
      "103 : AI & ML Community\n",
      "104 : Web Dev Hub\n"
     ]
    }
   ],
   "source": [
    "# write a function to display users and their connections\n",
    "\n",
    "def display_users(data):\n",
    "    print(f\"Users and their connections: \\n\")\n",
    "    for user in data[\"users\"]:\n",
    "        print(f\"ID{user['id']}:- {user['name']} is friends with: {user['friends']} and liked pages are {user['liked_pages']}\\n\")\n",
    "    print(\"Pages information : \\n\")\n",
    "    for page in data[\"pages\"]:\n",
    "        print(f\"{page['id']} : {page['name']}\")\n",
    "\n",
    "display_users(data)        "
   ]
  }
 ],
 "metadata": {
  "kernelspec": {
   "display_name": "Python 3 (ipykernel)",
   "language": "python",
   "name": "python3"
  },
  "language_info": {
   "codemirror_mode": {
    "name": "ipython",
    "version": 3
   },
   "file_extension": ".py",
   "mimetype": "text/x-python",
   "name": "python",
   "nbconvert_exporter": "python",
   "pygments_lexer": "ipython3",
   "version": "3.11.7"
  },
  "widgets": {
   "application/vnd.jupyter.widget-state+json": {
    "state": {},
    "version_major": 2,
    "version_minor": 0
   }
  }
 },
 "nbformat": 4,
 "nbformat_minor": 5
}
